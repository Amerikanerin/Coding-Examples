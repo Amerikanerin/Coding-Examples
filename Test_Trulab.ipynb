{
  "nbformat": 4,
  "nbformat_minor": 0,
  "metadata": {
    "colab": {
      "provenance": [],
      "authorship_tag": "ABX9TyNKbC3mNlfPckGIa6lCNCkS",
      "include_colab_link": true
    },
    "kernelspec": {
      "name": "python3",
      "display_name": "Python 3"
    },
    "language_info": {
      "name": "python"
    }
  },
  "cells": [
    {
      "cell_type": "markdown",
      "metadata": {
        "id": "view-in-github",
        "colab_type": "text"
      },
      "source": [
        "<a href=\"https://colab.research.google.com/github/Amerikanerin/Coding-Examples/blob/master/Test_Trulab.ipynb\" target=\"_parent\"><img src=\"https://colab.research.google.com/assets/colab-badge.svg\" alt=\"Open In Colab\"/></a>"
      ]
    },
    {
      "cell_type": "code",
      "execution_count": null,
      "metadata": {
        "id": "-mYL6tgFAVcE"
      },
      "outputs": [],
      "source": [
        "!pip install --upgrade trulens-eval # Upgrade to the latest version\n",
        "!pip install trulens  # install the main library and not only the eval one\n",
        "\n",
        "from trulens import TruLensClient # import the client in the correct way\n",
        "from trulens.client import TruLensClient # import the client in the correct way from the correct library\n",
        "from trulens_eval.tru_custom import TruCustom\n",
        "import random\n",
        "\n",
        "# Initialize TruLens client (replace with your actual API key if needed)\n",
        "tru = TruLensClient()\n",
        "\n",
        "# Define a simple model for demonstration (replace with your actual model)\n",
        "def my_model(prompt):\n",
        "  names = [\"Coco\", \"Lucky\", \"Oliver\", \"Milo\", \"Charlie\"]\n",
        "  return random.choice(names)\n",
        "\n",
        "# Create a custom TruLens app\n",
        "app = TruCustom(my_model, name=\"French Bulldog Name Generator\")\n",
        "\n",
        "# Define a prompt\n",
        "prompt = \"What is a good name for a French Bulldog?\"\n",
        "\n",
        "# Call the model with the prompt and record the result with TruLens\n",
        "with tru.run(app, prompt):\n",
        "    response = my_model(prompt)\n",
        "\n",
        "print(f\"Model response: {response}\")"
      ]
    }
  ]
}